{
 "cells": [
  {
   "cell_type": "markdown",
   "metadata": {},
   "source": [
    "# Crop Visium HD Image\n",
    "\n",
    "This notebook demonstrates how to crop the Visium HD microscope image to the tissue region using the `prepare_dataframe_image` function."
   ]
  },
  {
   "cell_type": "markdown",
   "metadata": {},
   "source": [
    "## Import Required Libraries"
   ]
  },
  {
   "cell_type": "code",
   "execution_count": null,
   "metadata": {},
   "outputs": [],
   "source": [
    "import numpy as np\n",
    "import pandas as pd\n",
    "from PIL import Image\n",
    "import matplotlib.pyplot as plt\n",
    "import sys\n",
    "\n",
    "# Force reload the module to get the latest changes\n",
    "import importlib\n",
    "import crop_visium_hd_image\n",
    "importlib.reload(crop_visium_hd_image)\n",
    "\n",
    "# Import the cropping function\n",
    "from crop_visium_hd_image import prepare_dataframe_image, visualize_crop_boundaries"
   ]
  },
  {
   "cell_type": "markdown",
   "metadata": {},
   "source": [
    "## Set File Paths\n",
    "\n",
    "Define paths to the tissue positions parquet file and the microscope image."
   ]
  },
  {
   "cell_type": "code",
   "execution_count": null,
   "metadata": {},
   "outputs": [],
   "source": [
    "# Path to tissue positions data (contains spot coordinates)\n",
    "df_path = 'brain/output/binned_outputs/square_002um/spatial/tissue_positions.parquet'\n",
    "\n",
    "# Path to the full-resolution microscope image\n",
    "# Update this to point to your actual image file\n",
    "img_path = 'brain/input/Visium_HD_3prime_Mouse_Brain_tissue_image.btf'\n",
    "\n",
    "# Output path for the cropped image\n",
    "output_path = 'cropped_visium_hd_brain.png'"
   ]
  },
  {
   "cell_type": "markdown",
   "metadata": {},
   "source": [
    "## Crop the Image\n",
    "\n",
    "Process the image and crop it to the Visium HD tissue region."
   ]
  },
  {
   "cell_type": "code",
   "execution_count": null,
   "metadata": {},
   "outputs": [],
   "source": [
    "# Process and crop the image\n",
    "result = prepare_dataframe_image(\n",
    "    df_path=df_path,\n",
    "    img_path=img_path,\n",
    "    image_format='HE',  # HE stained image (use 'DAPI' for fluorescence)\n",
    "    row_number=3350,    # Default for Visium HD\n",
    "    col_number=3350,    # Default for Visium HD\n",
    "    save_cropped_path=output_path\n",
    ")"
   ]
  },
  {
   "cell_type": "markdown",
   "metadata": {},
   "source": [
    "## Explore the Results"
   ]
  },
  {
   "cell_type": "code",
   "execution_count": null,
   "metadata": {},
   "outputs": [],
   "source": [
    "# Print basic information\n",
    "print(f\"Original image shape: {result['image_array'].shape}\")\n",
    "print(f\"Cropped image shape: {result['cropped_image'].shape}\")\n",
    "print(f\"Total spots: {len(result['df'])}\")\n",
    "print(f\"Spots in cropped region: {len(result['df_temp'])}\")\n",
    "print(f\"Spots marked as in_tissue: {result['df'][result['df']['in_tissue'] == 1].shape[0]}\")"
   ]
  },
  {
   "cell_type": "code",
   "execution_count": null,
   "metadata": {},
   "outputs": [],
   "source": [
    "# Display crop boundaries\n",
    "print(\"\\nCrop boundaries:\")\n",
    "for key, value in result['boundaries'].items():\n",
    "    print(f\"  {key}: {value}\")"
   ]
  },
  {
   "cell_type": "markdown",
   "metadata": {},
   "source": [
    "## Visualize Original and Cropped Images"
   ]
  },
  {
   "cell_type": "code",
   "execution_count": null,
   "metadata": {},
   "outputs": [],
   "source": [
    "# Visualize using the built-in function\n",
    "visualize_crop_boundaries(result)"
   ]
  },
  {
   "cell_type": "markdown",
   "metadata": {},
   "source": [
    "## Display Cropped Image Only"
   ]
  },
  {
   "cell_type": "code",
   "execution_count": null,
   "metadata": {},
   "outputs": [],
   "source": [
    "# Display just the cropped image at full size\n",
    "plt.figure(figsize=(15, 15))\n",
    "plt.imshow(result['cropped_image'])\n",
    "plt.title('Cropped Visium HD Region')\n",
    "plt.axis('off')\n",
    "plt.tight_layout()\n",
    "plt.show()"
   ]
  },
  {
   "cell_type": "markdown",
   "metadata": {},
   "source": [
    "## Inspect Pixel-to-Spot Mapping"
   ]
  },
  {
   "cell_type": "code",
   "execution_count": null,
   "metadata": {},
   "outputs": [],
   "source": [
    "# The 'pixels' array maps each pixel to a spot ID\n",
    "# -1 indicates background pixels\n",
    "print(f\"Pixel mapping array shape: {result['pixels'].shape}\")\n",
    "print(f\"Unique spot IDs: {len(np.unique(result['pixels'][result['pixels'] != -1]))}\")\n",
    "print(f\"Background pixels: {np.sum(result['pixels'] == -1)}\")"
   ]
  },
  {
   "cell_type": "markdown",
   "metadata": {},
   "source": [
    "## Visualize Pixel-to-Spot Mapping"
   ]
  },
  {
   "cell_type": "code",
   "execution_count": null,
   "metadata": {},
   "outputs": [],
   "source": [
    "# Visualize the spot assignment map\n",
    "plt.figure(figsize=(12, 12))\n",
    "plt.imshow(result['pixels'], cmap='tab20', interpolation='nearest')\n",
    "plt.title('Pixel-to-Spot Mapping')\n",
    "plt.colorbar(label='Spot ID (-1 = background)')\n",
    "plt.axis('off')\n",
    "plt.tight_layout()\n",
    "plt.show()"
   ]
  },
  {
   "cell_type": "markdown",
   "metadata": {},
   "source": [
    "## Examine Spot Position DataFrame"
   ]
  },
  {
   "cell_type": "code",
   "execution_count": null,
   "metadata": {},
   "outputs": [],
   "source": [
    "# Display the first few rows of the filtered dataframe\n",
    "result['df_temp'].head(10)"
   ]
  }
 ],
 "metadata": {
  "kernelspec": {
   "display_name": "Python 3",
   "language": "python",
   "name": "python3"
  },
  "language_info": {
   "codemirror_mode": {
    "name": "ipython",
    "version": 3
   },
   "file_extension": ".py",
   "mimetype": "text/x-python",
   "name": "python",
   "nbconvert_exporter": "python",
   "pygments_lexer": "ipython3",
   "version": "3.12.12"
  }
 },
 "nbformat": 4,
 "nbformat_minor": 4
}
